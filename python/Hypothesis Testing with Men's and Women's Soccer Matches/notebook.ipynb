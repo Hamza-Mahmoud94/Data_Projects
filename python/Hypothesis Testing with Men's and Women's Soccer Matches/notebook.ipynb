{
 "cells": [
  {
   "cell_type": "markdown",
   "id": "3ed0edb2-696b-49ab-9db0-681defcce695",
   "metadata": {},
   "source": [
    "![A soccer pitch for an international match.](soccer-pitch.jpg)\n",
    "\n",
    "You're working as a sports journalist at a major online sports media company, specializing in soccer analysis and reporting. You've been watching both men's and women's international soccer matches for a number of years, and your gut instinct tells you that more goals are scored in women's international football matches than men's. This would make an interesting investigative article that your subscribers are bound to love, but you'll need to perform a valid statistical hypothesis test to be sure!\n",
    "\n",
    "While scoping this project, you acknowledge that the sport has changed a lot over the years, and performances likely vary a lot depending on the tournament, so you decide to limit the data used in the analysis to only official `FIFA World Cup` matches (not including qualifiers) since `2002-01-01`.\n",
    "\n",
    "You create two datasets containing the results of every official men's and women's international football match since the 19th century, which you scraped from a reliable online source. This data is stored in two CSV files: `women_results.csv` and `men_results.csv`.\n",
    "\n",
    "The question you are trying to determine the answer to is:\n",
    "\n",
    "> Are more goals scored in women's international soccer matches than men's?\n",
    "\n",
    "You assume a **10% significance level**, and use the following null and alternative hypotheses:\n",
    "\n",
    "$H_0$ : The mean number of goals scored in women's international soccer matches is the same as men's.\n",
    "\n",
    "$H_A$ : The mean number of goals scored in women's international soccer matches is greater than men's."
   ]
  },
  {
   "cell_type": "code",
   "execution_count": 4,
   "id": "84a3c4c8-534b-4d1a-9919-17e05208b2ca",
   "metadata": {
    "chartConfig": {
     "bar": {
      "hasRoundedCorners": true,
      "stacked": false
     },
     "type": "bar",
     "version": "v1",
     "x": {
      "field": "tournament",
      "type": "string"
     },
     "y": {
      "field": "tournament",
      "type": "string"
     }
    },
    "executionCancelledAt": null,
    "executionTime": null,
    "lastExecutedAt": null,
    "lastExecutedByKernel": null,
    "lastScheduledRunId": null,
    "lastSuccessfullyExecutedCode": null,
    "outputsMetadata": {
     "0": {
      "height": 239,
      "type": "dataFrame"
     }
    },
    "visualizeDataframe": false
   },
   "outputs": [
    {
     "data": {
      "text/html": [
       "<div>\n",
       "<style scoped>\n",
       "    .dataframe tbody tr th:only-of-type {\n",
       "        vertical-align: middle;\n",
       "    }\n",
       "\n",
       "    .dataframe tbody tr th {\n",
       "        vertical-align: top;\n",
       "    }\n",
       "\n",
       "    .dataframe thead th {\n",
       "        text-align: right;\n",
       "    }\n",
       "</style>\n",
       "<table border=\"1\" class=\"dataframe\">\n",
       "  <thead>\n",
       "    <tr style=\"text-align: right;\">\n",
       "      <th></th>\n",
       "      <th>Unnamed: 0</th>\n",
       "      <th>date</th>\n",
       "      <th>home_team</th>\n",
       "      <th>away_team</th>\n",
       "      <th>home_score</th>\n",
       "      <th>away_score</th>\n",
       "      <th>tournament</th>\n",
       "    </tr>\n",
       "  </thead>\n",
       "  <tbody>\n",
       "    <tr>\n",
       "      <th>25164</th>\n",
       "      <td>25164</td>\n",
       "      <td>2002-05-31</td>\n",
       "      <td>France</td>\n",
       "      <td>Senegal</td>\n",
       "      <td>0</td>\n",
       "      <td>1</td>\n",
       "      <td>FIFA World Cup</td>\n",
       "    </tr>\n",
       "    <tr>\n",
       "      <th>25165</th>\n",
       "      <td>25165</td>\n",
       "      <td>2002-06-01</td>\n",
       "      <td>Germany</td>\n",
       "      <td>Saudi Arabia</td>\n",
       "      <td>8</td>\n",
       "      <td>0</td>\n",
       "      <td>FIFA World Cup</td>\n",
       "    </tr>\n",
       "    <tr>\n",
       "      <th>25166</th>\n",
       "      <td>25166</td>\n",
       "      <td>2002-06-01</td>\n",
       "      <td>Republic of Ireland</td>\n",
       "      <td>Cameroon</td>\n",
       "      <td>1</td>\n",
       "      <td>1</td>\n",
       "      <td>FIFA World Cup</td>\n",
       "    </tr>\n",
       "    <tr>\n",
       "      <th>25167</th>\n",
       "      <td>25167</td>\n",
       "      <td>2002-06-01</td>\n",
       "      <td>Uruguay</td>\n",
       "      <td>Denmark</td>\n",
       "      <td>1</td>\n",
       "      <td>2</td>\n",
       "      <td>FIFA World Cup</td>\n",
       "    </tr>\n",
       "    <tr>\n",
       "      <th>25168</th>\n",
       "      <td>25168</td>\n",
       "      <td>2002-06-02</td>\n",
       "      <td>Argentina</td>\n",
       "      <td>Nigeria</td>\n",
       "      <td>1</td>\n",
       "      <td>0</td>\n",
       "      <td>FIFA World Cup</td>\n",
       "    </tr>\n",
       "  </tbody>\n",
       "</table>\n",
       "</div>"
      ],
      "text/plain": [
       "       Unnamed: 0       date            home_team     away_team  home_score  \\\n",
       "25164       25164 2002-05-31               France       Senegal           0   \n",
       "25165       25165 2002-06-01              Germany  Saudi Arabia           8   \n",
       "25166       25166 2002-06-01  Republic of Ireland      Cameroon           1   \n",
       "25167       25167 2002-06-01              Uruguay       Denmark           1   \n",
       "25168       25168 2002-06-02            Argentina       Nigeria           1   \n",
       "\n",
       "       away_score      tournament  \n",
       "25164           1  FIFA World Cup  \n",
       "25165           0  FIFA World Cup  \n",
       "25166           1  FIFA World Cup  \n",
       "25167           2  FIFA World Cup  \n",
       "25168           0  FIFA World Cup  "
      ]
     },
     "execution_count": 4,
     "metadata": {},
     "output_type": "execute_result"
    }
   ],
   "source": [
    "# Imports\n",
    "import pandas as pd\n",
    "import matplotlib.pyplot as plt\n",
    "import pingouin\n",
    "from scipy.stats import mannwhitneyu\n",
    "\n",
    "# Load men's and women's datasets\n",
    "men = pd.read_csv(\"men_results.csv\")\n",
    "women = pd.read_csv(\"women_results.csv\")\n",
    "\n",
    "# Filter the data for the time range and tournament\n",
    "men[\"date\"] = pd.to_datetime(men[\"date\"])\n",
    "men_subset = men[(men[\"date\"] > \"2002-01-01\") & (men[\"tournament\"].isin([\"FIFA World Cup\"]))]\n",
    "women[\"date\"] = pd.to_datetime(women[\"date\"])\n",
    "women_subset = women[(women[\"date\"] > \"2002-01-01\") & (women[\"tournament\"].isin([\"FIFA World Cup\"]))]\n",
    "\n",
    "men_subset.head()"
   ]
  },
  {
   "cell_type": "code",
   "execution_count": 6,
   "id": "fe6af24e-84d6-407c-8d4d-07aeaa99c478",
   "metadata": {
    "executionCancelledAt": null,
    "executionTime": null,
    "lastExecutedAt": null,
    "lastExecutedByKernel": null,
    "lastScheduledRunId": null,
    "lastSuccessfullyExecutedCode": null,
    "outputsMetadata": {
     "0": {
      "height": 222,
      "type": "dataFrame"
     }
    }
   },
   "outputs": [
    {
     "name": "stderr",
     "output_type": "stream",
     "text": [
      "C:\\Users\\Admin\\AppData\\Local\\Temp\\ipykernel_4676\\3025180459.py:2: SettingWithCopyWarning: \n",
      "A value is trying to be set on a copy of a slice from a DataFrame.\n",
      "Try using .loc[row_indexer,col_indexer] = value instead\n",
      "\n",
      "See the caveats in the documentation: https://pandas.pydata.org/pandas-docs/stable/user_guide/indexing.html#returning-a-view-versus-a-copy\n",
      "  men_subset[\"group\"] = \"men\"\n",
      "C:\\Users\\Admin\\AppData\\Local\\Temp\\ipykernel_4676\\3025180459.py:3: SettingWithCopyWarning: \n",
      "A value is trying to be set on a copy of a slice from a DataFrame.\n",
      "Try using .loc[row_indexer,col_indexer] = value instead\n",
      "\n",
      "See the caveats in the documentation: https://pandas.pydata.org/pandas-docs/stable/user_guide/indexing.html#returning-a-view-versus-a-copy\n",
      "  women_subset[\"group\"] = \"women\"\n",
      "C:\\Users\\Admin\\AppData\\Local\\Temp\\ipykernel_4676\\3025180459.py:4: SettingWithCopyWarning: \n",
      "A value is trying to be set on a copy of a slice from a DataFrame.\n",
      "Try using .loc[row_indexer,col_indexer] = value instead\n",
      "\n",
      "See the caveats in the documentation: https://pandas.pydata.org/pandas-docs/stable/user_guide/indexing.html#returning-a-view-versus-a-copy\n",
      "  men_subset[\"goals_scored\"] = men_subset[\"home_score\"] + men_subset[\"away_score\"]\n",
      "C:\\Users\\Admin\\AppData\\Local\\Temp\\ipykernel_4676\\3025180459.py:5: SettingWithCopyWarning: \n",
      "A value is trying to be set on a copy of a slice from a DataFrame.\n",
      "Try using .loc[row_indexer,col_indexer] = value instead\n",
      "\n",
      "See the caveats in the documentation: https://pandas.pydata.org/pandas-docs/stable/user_guide/indexing.html#returning-a-view-versus-a-copy\n",
      "  women_subset[\"goals_scored\"] = women_subset[\"home_score\"] + women_subset[\"away_score\"]\n"
     ]
    }
   ],
   "source": [
    "# Create group and goals_scored columns\n",
    "men_subset[\"group\"] = \"men\"\n",
    "women_subset[\"group\"] = \"women\"\n",
    "men_subset[\"goals_scored\"] = men_subset[\"home_score\"] + men_subset[\"away_score\"]\n",
    "women_subset[\"goals_scored\"] = women_subset[\"home_score\"] + women_subset[\"away_score\"]"
   ]
  },
  {
   "cell_type": "code",
   "execution_count": 9,
   "id": "ca46b439-5f2b-4e5b-a630-c12e46e88b2a",
   "metadata": {},
   "outputs": [
    {
     "data": {
      "image/png": "[encoded data removed]",
      "text/plain": [
       "<Figure size 640x480 with 1 Axes>"
      ]
     },
     "metadata": {},
     "output_type": "display_data"
    },
    {
     "data": {
      "text/plain": [
       "<Figure size 640x480 with 0 Axes>"
      ]
     },
     "metadata": {},
     "output_type": "display_data"
    }
   ],
   "source": [
    "# Determine normality using histograms\n",
    "men_subset[\"goals_scored\"].hist()\n",
    "plt.show()\n",
    "plt.clf()"
   ]
  },
  {
   "cell_type": "code",
   "execution_count": 21,
   "id": "67aefacc",
   "metadata": {},
   "outputs": [
    {
     "data": {
      "text/html": [
       "<div>\n",
       "<style scoped>\n",
       "    .dataframe tbody tr th:only-of-type {\n",
       "        vertical-align: middle;\n",
       "    }\n",
       "\n",
       "    .dataframe tbody tr th {\n",
       "        vertical-align: top;\n",
       "    }\n",
       "\n",
       "    .dataframe thead th {\n",
       "        text-align: right;\n",
       "    }\n",
       "</style>\n",
       "<table border=\"1\" class=\"dataframe\">\n",
       "  <thead>\n",
       "    <tr style=\"text-align: right;\">\n",
       "      <th>group</th>\n",
       "      <th>men</th>\n",
       "      <th>women</th>\n",
       "    </tr>\n",
       "  </thead>\n",
       "  <tbody>\n",
       "    <tr>\n",
       "      <th>0</th>\n",
       "      <td>NaN</td>\n",
       "      <td>3.0</td>\n",
       "    </tr>\n",
       "    <tr>\n",
       "      <th>1</th>\n",
       "      <td>NaN</td>\n",
       "      <td>2.0</td>\n",
       "    </tr>\n",
       "    <tr>\n",
       "      <th>2</th>\n",
       "      <td>NaN</td>\n",
       "      <td>5.0</td>\n",
       "    </tr>\n",
       "    <tr>\n",
       "      <th>3</th>\n",
       "      <td>NaN</td>\n",
       "      <td>6.0</td>\n",
       "    </tr>\n",
       "    <tr>\n",
       "      <th>4</th>\n",
       "      <td>NaN</td>\n",
       "      <td>4.0</td>\n",
       "    </tr>\n",
       "  </tbody>\n",
       "</table>\n",
       "</div>"
      ],
      "text/plain": [
       "group  men  women\n",
       "0      NaN    3.0\n",
       "1      NaN    2.0\n",
       "2      NaN    5.0\n",
       "3      NaN    6.0\n",
       "4      NaN    4.0"
      ]
     },
     "execution_count": 21,
     "metadata": {},
     "output_type": "execute_result"
    }
   ],
   "source": [
    "# Combine women's and men's data and calculate goals scored in each match\n",
    "both = pd.concat([women_subset, men_subset], axis=0, ignore_index=True)\n",
    "\n",
    "# Transform the data for the pingouin Mann-Whitney U t-test/Wilcoxon-Mann-Whitney test\n",
    "both_subset = both[[\"goals_scored\", \"group\"]]\n",
    "both_subset_wide = both_subset.pivot(columns=\"group\", values=\"goals_scored\")\n",
    "\n",
    "both_subset_wide.head()"
   ]
  },
  {
   "cell_type": "code",
   "execution_count": 14,
   "id": "43904277",
   "metadata": {},
   "outputs": [
    {
     "data": {
      "text/html": [
       "<div>\n",
       "<style scoped>\n",
       "    .dataframe tbody tr th:only-of-type {\n",
       "        vertical-align: middle;\n",
       "    }\n",
       "\n",
       "    .dataframe tbody tr th {\n",
       "        vertical-align: top;\n",
       "    }\n",
       "\n",
       "    .dataframe thead th {\n",
       "        text-align: right;\n",
       "    }\n",
       "</style>\n",
       "<table border=\"1\" class=\"dataframe\">\n",
       "  <thead>\n",
       "    <tr style=\"text-align: right;\">\n",
       "      <th></th>\n",
       "      <th>U-val</th>\n",
       "      <th>alternative</th>\n",
       "      <th>p-val</th>\n",
       "      <th>RBC</th>\n",
       "      <th>CLES</th>\n",
       "    </tr>\n",
       "  </thead>\n",
       "  <tbody>\n",
       "    <tr>\n",
       "      <th>MWU</th>\n",
       "      <td>43273.0</td>\n",
       "      <td>greater</td>\n",
       "      <td>0.005107</td>\n",
       "      <td>0.126901</td>\n",
       "      <td>0.563451</td>\n",
       "    </tr>\n",
       "  </tbody>\n",
       "</table>\n",
       "</div>"
      ],
      "text/plain": [
       "       U-val alternative     p-val       RBC      CLES\n",
       "MWU  43273.0     greater  0.005107  0.126901  0.563451"
      ]
     },
     "execution_count": 14,
     "metadata": {},
     "output_type": "execute_result"
    }
   ],
   "source": [
    "# Perform right-tailed Wilcoxon-Mann-Whitney test with pingouin\n",
    "results_pg = pingouin.mwu(x=both_subset_wide[\"women\"],\n",
    "                          y=both_subset_wide[\"men\"],\n",
    "                          alternative=\"greater\")\n",
    "results_pg"
   ]
  },
  {
   "cell_type": "code",
   "execution_count": 15,
   "id": "7e555f7a",
   "metadata": {},
   "outputs": [
    {
     "data": {
      "text/plain": [
       "MannwhitneyuResult(statistic=43273.0, pvalue=0.005106609825443641)"
      ]
     },
     "execution_count": 15,
     "metadata": {},
     "output_type": "execute_result"
    }
   ],
   "source": [
    "# Alternative SciPy solution: Perform right-tailed Wilcoxon-Mann-Whitney test with scipy\n",
    "results_scipy = mannwhitneyu(x=women_subset[\"goals_scored\"],\n",
    "                             y=men_subset[\"goals_scored\"],\n",
    "                             alternative=\"greater\")\n",
    "results_scipy"
   ]
  },
  {
   "cell_type": "code",
   "execution_count": null,
   "id": "d3e9a5c7",
   "metadata": {},
   "outputs": [],
   "source": [
    "# Extract p-value as a float\n",
    "p_val = results_pg[\"p-val\"].values[0]"
   ]
  },
  {
   "cell_type": "code",
   "execution_count": 23,
   "id": "4f91abe0",
   "metadata": {},
   "outputs": [
    {
     "data": {
      "text/plain": [
       "{'p_val': 0.005106609825443641, 'result': 'reject'}"
      ]
     },
     "execution_count": 23,
     "metadata": {},
     "output_type": "execute_result"
    }
   ],
   "source": [
    "# Determine hypothesis test result using sig. level\n",
    "if p_val <= 0.01:\n",
    "    result = \"reject\"\n",
    "else:\n",
    "    result = \"fail to reject\"\n",
    "\n",
    "result_dict = {\"p_val\": p_val, \"result\": result}\n",
    "\n",
    "result_dict"
   ]
  }
 ],
 "metadata": {
  "colab": {
   "name": "Welcome to DataCamp Workspaces.ipynb",
   "provenance": []
  },
  "kernelspec": {
   "display_name": "Python 3",
   "language": "python",
   "name": "python3"
  },
  "language_info": {
   "codemirror_mode": {
    "name": "ipython",
    "version": 3
   },
   "file_extension": ".py",
   "mimetype": "text/x-python",
   "name": "python",
   "nbconvert_exporter": "python",
   "pygments_lexer": "ipython3",
   "version": "3.11.9"
  }
 },
 "nbformat": 4,
 "nbformat_minor": 5
}
